{
 "cells": [
  {
   "cell_type": "code",
   "execution_count": 2,
   "id": "16e11f5d",
   "metadata": {},
   "outputs": [
    {
     "name": "stdout",
     "output_type": "stream",
     "text": [
      "Welcome to CodeAlpha Chatbot!\n",
      "Type something to begin (type 'bye' to exit).\n",
      "Bot: Sorry, I don't understand.\n",
      "Bot: Hi!\n",
      "Bot: I'm fine, thanks!\n",
      "Bot: I'm fine, thanks!\n",
      "Bot: Goodbye!\n"
     ]
    }
   ],
   "source": [
    "def chatbot():\n",
    "    print(\"Welcome to CodeAlpha Chatbot!\")\n",
    "    print(\"Type something to begin (type 'bye' to exit).\")\n",
    "\n",
    "    while True:\n",
    "        user_input = input(\"You: \").lower()\n",
    "\n",
    "        if user_input == \"hello\":\n",
    "            print(\"Bot: Hi!\")\n",
    "        elif user_input == \"how are you\":\n",
    "            print(\"Bot: I'm fine, thanks!\")\n",
    "        elif user_input == \"bye\":\n",
    "            print(\"Bot: Goodbye!\")\n",
    "            break\n",
    "        else:\n",
    "            print(\"Bot: Sorry, I don't understand.\")\n",
    "\n",
    "chatbot()\n"
   ]
  }
 ],
 "metadata": {
  "kernelspec": {
   "display_name": "base",
   "language": "python",
   "name": "python3"
  },
  "language_info": {
   "codemirror_mode": {
    "name": "ipython",
    "version": 3
   },
   "file_extension": ".py",
   "mimetype": "text/x-python",
   "name": "python",
   "nbconvert_exporter": "python",
   "pygments_lexer": "ipython3",
   "version": "3.12.7"
  }
 },
 "nbformat": 4,
 "nbformat_minor": 5
}
