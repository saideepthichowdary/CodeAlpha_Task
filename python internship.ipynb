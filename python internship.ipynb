{
 "cells": [
  {
   "cell_type": "code",
   "execution_count": null,
   "id": "792bd4b8-b294-4003-9cb8-0fa1153b7ca3",
   "metadata": {},
   "outputs": [
    {
     "name": "stdout",
     "output_type": "stream",
     "text": [
      "Welcome to Hangman!\n",
      "Guess the word, one letter at a time.\n",
      "You have 6 incorrect guesses.\n",
      "\n",
      "Word: _ _ _ _ _\n"
     ]
    },
    {
     "name": "stdout",
     "output_type": "stream",
     "text": [
      "Enter a letter:  e\n"
     ]
    },
    {
     "name": "stdout",
     "output_type": "stream",
     "text": [
      "Wrong guess. You have 5 attempts left.\n",
      "\n",
      "Word: _ _ _ _ _\n"
     ]
    },
    {
     "name": "stdout",
     "output_type": "stream",
     "text": [
      "Enter a letter:  a\n"
     ]
    },
    {
     "name": "stdout",
     "output_type": "stream",
     "text": [
      "Good guess!\n",
      "\n",
      "Word: _ _ a _ _\n"
     ]
    },
    {
     "name": "stdout",
     "output_type": "stream",
     "text": [
      "Enter a letter:  s\n"
     ]
    },
    {
     "name": "stdout",
     "output_type": "stream",
     "text": [
      "Wrong guess. You have 4 attempts left.\n",
      "\n",
      "Word: _ _ a _ _\n"
     ]
    },
    {
     "name": "stdout",
     "output_type": "stream",
     "text": [
      "Enter a letter:  p\n"
     ]
    },
    {
     "name": "stdout",
     "output_type": "stream",
     "text": [
      "Wrong guess. You have 3 attempts left.\n",
      "\n",
      "Word: _ _ a _ _\n"
     ]
    },
    {
     "name": "stdout",
     "output_type": "stream",
     "text": [
      "Enter a letter:  v\n"
     ]
    },
    {
     "name": "stdout",
     "output_type": "stream",
     "text": [
      "Wrong guess. You have 2 attempts left.\n",
      "\n",
      "Word: _ _ a _ _\n"
     ]
    },
    {
     "name": "stdout",
     "output_type": "stream",
     "text": [
      "Enter a letter:  n\n"
     ]
    },
    {
     "name": "stdout",
     "output_type": "stream",
     "text": [
      "Wrong guess. You have 1 attempts left.\n",
      "\n",
      "Word: _ _ a _ _\n"
     ]
    },
    {
     "name": "stdout",
     "output_type": "stream",
     "text": [
      "Enter a letter:  h\n"
     ]
    },
    {
     "name": "stdout",
     "output_type": "stream",
     "text": [
      "Good guess!\n",
      "\n",
      "Word: _ h a _ _\n"
     ]
    },
    {
     "name": "stdout",
     "output_type": "stream",
     "text": [
      "Enter a letter:  c\n"
     ]
    },
    {
     "name": "stdout",
     "output_type": "stream",
     "text": [
      "Good guess!\n",
      "\n",
      "Word: c h a _ _\n"
     ]
    },
    {
     "name": "stdout",
     "output_type": "stream",
     "text": [
      "Enter a letter:  i\n"
     ]
    },
    {
     "name": "stdout",
     "output_type": "stream",
     "text": [
      "Good guess!\n",
      "\n",
      "Word: c h a i _\n"
     ]
    },
    {
     "name": "stdout",
     "output_type": "stream",
     "text": [
      "Enter a letter:  r\n"
     ]
    },
    {
     "name": "stdout",
     "output_type": "stream",
     "text": [
      "Good guess!\n",
      "\n",
      "Congratulations! You guessed the word: chair\n"
     ]
    }
   ],
   "source": [
    "import random\n",
    "word_list = ['apple', 'tiger', 'plane', 'chair', 'grape']\n",
    "chosen_word = random.choice(word_list)\n",
    "guessed_word = ['_'] * len(chosen_word)\n",
    "guessed_letters = []\n",
    "max_attempts = 6\n",
    "attempts = 0\n",
    "\n",
    "print(\"Welcome to Hangman!\")\n",
    "print(\"Guess the word, one letter at a time.\")\n",
    "print(\"You have 6 incorrect guesses.\\n\")\n",
    "\n",
    "while attempts < max_attempts and '_' in guessed_word:\n",
    "    print(\"Word:\", ' '.join(guessed_word))\n",
    "    guess = input(\"Enter a letter: \").lower()\n",
    "\n",
    "    if not guess.isalpha() or len(guess) != 1:\n",
    "        print(\"Please enter a single valid letter.\\n\")\n",
    "        continue\n",
    "\n",
    "    if guess in guessed_letters:\n",
    "        print(\"You already guessed that letter. Try again.\\n\")\n",
    "        continue\n",
    "\n",
    "    guessed_letters.append(guess)\n",
    "\n",
    "    if guess in chosen_word:\n",
    "        for idx, char in enumerate(chosen_word):\n",
    "            if char == guess:\n",
    "                guessed_word[idx\n",
    "                             ] = guess\n",
    "        print(\"Good guess!\\n\")\n",
    "    else:\n",
    "        attempts += 1\n",
    "        print(f\"Wrong guess. You have {max_attempts - attempts} attempts left.\\n\")\n",
    "\n",
    "if '_' not in guessed_word:\n",
    "    print(\"Congratulations! You guessed the word:\", chosen_word)\n",
    "else:\n",
    "    print(\"Game Over! The word was:\", chosen_word)\n"
   ]
  },
  {
   "cell_type": "code",
   "execution_count": 1,
   "id": "955868f0",
   "metadata": {},
   "outputs": [
    {
     "name": "stdout",
     "output_type": "stream",
     "text": [
      "📈 Welcome to the Stock Portfolio Tracker!\n",
      "\n",
      "📊 Your Investment Summary:\n",
      "AAPL: 10 shares × $180 = $1800\n",
      "TSLA: 5 shares × $250 = $1250\n",
      "GOOG: 8 shares × $140 = $1120\n",
      "\n",
      "💰 Total Investment Value: $4170\n",
      "✅ Data saved to portfolio.csv\n",
      "✅ Data saved to portfolio.txt\n"
     ]
    },
    {
     "data": {
      "image/png": "[encoded data removed]",
      "text/plain": [
       "<Figure size 800x500 with 1 Axes>"
      ]
     },
     "metadata": {},
     "output_type": "display_data"
    }
   ],
   "source": [
    "import os\n",
    "import pandas as pd\n",
    "import matplotlib.pyplot as plt\n",
    "from colorama import Fore, init\n",
    "\n",
    "# Initialize colorama\n",
    "init(autoreset=True)\n",
    "\n",
    "# Hardcoded stock prices\n",
    "stock_prices = {\n",
    "    \"AAPL\": 180,\n",
    "    \"TSLA\": 250,\n",
    "    \"GOOG\": 140,\n",
    "    \"MSFT\": 320,\n",
    "    \"AMZN\": 125\n",
    "}\n",
    "\n",
    "# Predefined portfolio (you can change values here)\n",
    "portfolio = {\n",
    "    \"AAPL\": 10,\n",
    "    \"TSLA\": 5,\n",
    "    \"GOOG\": 8\n",
    "}\n",
    "\n",
    "total_value = 0\n",
    "\n",
    "# Display welcome message\n",
    "print(Fore.GREEN + \"📈 Welcome to the Stock Portfolio Tracker!\\n\")\n",
    "\n",
    "# Display investment summary\n",
    "print(Fore.YELLOW + \"📊 Your Investment Summary:\")\n",
    "for stock, quantity in portfolio.items():\n",
    "    value = stock_prices[stock] * quantity\n",
    "    total_value += value\n",
    "    print(f\"{stock}: {quantity} shares × ${stock_prices[stock]} = ${value}\")\n",
    "\n",
    "print(Fore.CYAN + f\"\\n💰 Total Investment Value: ${total_value}\")\n",
    "\n",
    "# Save to CSV file\n",
    "df = pd.DataFrame([{\n",
    "    \"Stock\": stock,\n",
    "    \"Quantity\": quantity,\n",
    "    \"Price\": stock_prices[stock],\n",
    "    \"Total Value\": stock_prices[stock] * quantity\n",
    "} for stock, quantity in portfolio.items()])\n",
    "df.to_csv(\"portfolio.csv\", index=False)\n",
    "print(Fore.GREEN + \"✅ Data saved to portfolio.csv\")\n",
    "\n",
    "# Save to TXT file\n",
    "with open(\"portfolio.txt\", \"w\") as f:\n",
    "    for stock, quantity in portfolio.items():\n",
    "        f.write(f\"{stock}: {quantity} × ${stock_prices[stock]} = ${stock_prices[stock]*quantity}\\n\")\n",
    "    f.write(f\"\\nTotal Investment Value: ${total_value}\")\n",
    "print(Fore.GREEN + \"✅ Data saved to portfolio.txt\")\n",
    "\n",
    "# Visualize portfolio as a bar graph\n",
    "stocks = list(portfolio.keys())\n",
    "values = [stock_prices[stock] * quantity for stock, quantity in portfolio.items()]\n",
    "\n",
    "plt.figure(figsize=(8, 5))\n",
    "plt.bar(stocks, values, color='skyblue')\n",
    "plt.title(\"Stock Portfolio Value\")\n",
    "plt.xlabel(\"Stock\")\n",
    "plt.ylabel(\"Total Value ($)\")\n",
    "plt.grid(axis='y', linestyle='--', alpha=0.7)\n",
    "plt.tight_layout()\n",
    "plt.show()\n"
   ]
  },
  {
   "cell_type": "code",
   "execution_count": null,
   "id": "1beb50d6",
   "metadata": {},
   "outputs": [],
   "source": []
  }
 ],
 "metadata": {
  "kernelspec": {
   "display_name": "base",
   "language": "python",
   "name": "python3"
  },
  "language_info": {
   "codemirror_mode": {
    "name": "ipython",
    "version": 3
   },
   "file_extension": ".py",
   "mimetype": "text/x-python",
   "name": "python",
   "nbconvert_exporter": "python",
   "pygments_lexer": "ipython3",
   "version": "3.12.7"
  }
 },
 "nbformat": 4,
 "nbformat_minor": 5
}
