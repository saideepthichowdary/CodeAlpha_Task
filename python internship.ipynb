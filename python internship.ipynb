{
 "cells": [
  {
   "cell_type": "code",
   "execution_count": null,
   "id": "792bd4b8-b294-4003-9cb8-0fa1153b7ca3",
   "metadata": {},
   "outputs": [
    {
     "name": "stdout",
     "output_type": "stream",
     "text": [
      "Welcome to Hangman!\n",
      "Guess the word, one letter at a time.\n",
      "You have 6 incorrect guesses.\n",
      "\n",
      "Word: _ _ _ _ _\n"
     ]
    },
    {
     "name": "stdout",
     "output_type": "stream",
     "text": [
      "Enter a letter:  e\n"
     ]
    },
    {
     "name": "stdout",
     "output_type": "stream",
     "text": [
      "Wrong guess. You have 5 attempts left.\n",
      "\n",
      "Word: _ _ _ _ _\n"
     ]
    },
    {
     "name": "stdout",
     "output_type": "stream",
     "text": [
      "Enter a letter:  a\n"
     ]
    },
    {
     "name": "stdout",
     "output_type": "stream",
     "text": [
      "Good guess!\n",
      "\n",
      "Word: _ _ a _ _\n"
     ]
    },
    {
     "name": "stdout",
     "output_type": "stream",
     "text": [
      "Enter a letter:  s\n"
     ]
    },
    {
     "name": "stdout",
     "output_type": "stream",
     "text": [
      "Wrong guess. You have 4 attempts left.\n",
      "\n",
      "Word: _ _ a _ _\n"
     ]
    },
    {
     "name": "stdout",
     "output_type": "stream",
     "text": [
      "Enter a letter:  p\n"
     ]
    },
    {
     "name": "stdout",
     "output_type": "stream",
     "text": [
      "Wrong guess. You have 3 attempts left.\n",
      "\n",
      "Word: _ _ a _ _\n"
     ]
    },
    {
     "name": "stdout",
     "output_type": "stream",
     "text": [
      "Enter a letter:  v\n"
     ]
    },
    {
     "name": "stdout",
     "output_type": "stream",
     "text": [
      "Wrong guess. You have 2 attempts left.\n",
      "\n",
      "Word: _ _ a _ _\n"
     ]
    },
    {
     "name": "stdout",
     "output_type": "stream",
     "text": [
      "Enter a letter:  n\n"
     ]
    },
    {
     "name": "stdout",
     "output_type": "stream",
     "text": [
      "Wrong guess. You have 1 attempts left.\n",
      "\n",
      "Word: _ _ a _ _\n"
     ]
    },
    {
     "name": "stdout",
     "output_type": "stream",
     "text": [
      "Enter a letter:  h\n"
     ]
    },
    {
     "name": "stdout",
     "output_type": "stream",
     "text": [
      "Good guess!\n",
      "\n",
      "Word: _ h a _ _\n"
     ]
    },
    {
     "name": "stdout",
     "output_type": "stream",
     "text": [
      "Enter a letter:  c\n"
     ]
    },
    {
     "name": "stdout",
     "output_type": "stream",
     "text": [
      "Good guess!\n",
      "\n",
      "Word: c h a _ _\n"
     ]
    },
    {
     "name": "stdout",
     "output_type": "stream",
     "text": [
      "Enter a letter:  i\n"
     ]
    },
    {
     "name": "stdout",
     "output_type": "stream",
     "text": [
      "Good guess!\n",
      "\n",
      "Word: c h a i _\n"
     ]
    },
    {
     "name": "stdout",
     "output_type": "stream",
     "text": [
      "Enter a letter:  r\n"
     ]
    },
    {
     "name": "stdout",
     "output_type": "stream",
     "text": [
      "Good guess!\n",
      "\n",
      "Congratulations! You guessed the word: chair\n"
     ]
    }
   ],
   "source": [
    "import random\n",
    "word_list = ['apple', 'tiger', 'plane', 'chair', 'grape']\n",
    "chosen_word = random.choice(word_list)\n",
    "guessed_word = ['_'] * len(chosen_word)\n",
    "guessed_letters = []\n",
    "max_attempts = 6\n",
    "attempts = 0\n",
    "\n",
    "print(\"Welcome to Hangman!\")\n",
    "print(\"Guess the word, one letter at a time.\")\n",
    "print(\"You have 6 incorrect guesses.\\n\")\n",
    "\n",
    "while attempts < max_attempts and '_' in guessed_word:\n",
    "    print(\"Word:\", ' '.join(guessed_word))\n",
    "    guess = input(\"Enter a letter: \").lower()\n",
    "\n",
    "    if not guess.isalpha() or len(guess) != 1:\n",
    "        print(\"Please enter a single valid letter.\\n\")\n",
    "        continue\n",
    "\n",
    "    if guess in guessed_letters:\n",
    "        print(\"You already guessed that letter. Try again.\\n\")\n",
    "        continue\n",
    "\n",
    "    guessed_letters.append(guess)\n",
    "\n",
    "    if guess in chosen_word:\n",
    "        for idx, char in enumerate(chosen_word):\n",
    "            if char == guess:\n",
    "                guessed_word[idx\n",
    "                             ] = guess\n",
    "        print(\"Good guess!\\n\")\n",
    "    else:\n",
    "        attempts += 1\n",
    "        print(f\"Wrong guess. You have {max_attempts - attempts} attempts left.\\n\")\n",
    "\n",
    "if '_' not in guessed_word:\n",
    "    print(\"Congratulations! You guessed the word:\", chosen_word)\n",
    "else:\n",
    "    print(\"Game Over! The word was:\", chosen_word)\n"
   ]
  }
 ],
 "metadata": {
  "kernelspec": {
   "display_name": "base",
   "language": "python",
   "name": "python3"
  },
  "language_info": {
   "codemirror_mode": {
    "name": "ipython",
    "version": 3
   },
   "file_extension": ".py",
   "mimetype": "text/x-python",
   "name": "python",
   "nbconvert_exporter": "python",
   "pygments_lexer": "ipython3",
   "version": "3.12.7"
  }
 },
 "nbformat": 4,
 "nbformat_minor": 5
}
