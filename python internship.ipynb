{
 "cells": [
  {
   "cell_type": "code",
   "execution_count": 1,
   "id": "792bd4b8-b294-4003-9cb8-0fa1153b7ca3",
   "metadata": {},
   "outputs": [
    {
     "name": "stdout",
     "output_type": "stream",
     "text": [
      "Welcome to Hangman!\n",
      "Guess the word, one letter at a time.\n",
      "You have 6 incorrect guesses.\n",
      "\n",
      "Word: _ _ _ _ _\n"
     ]
    },
    {
     "name": "stdin",
     "output_type": "stream",
     "text": [
      "Enter a letter:  e\n"
     ]
    },
    {
     "name": "stdout",
     "output_type": "stream",
     "text": [
      "Wrong guess. You have 5 attempts left.\n",
      "\n",
      "Word: _ _ _ _ _\n"
     ]
    },
    {
     "name": "stdin",
     "output_type": "stream",
     "text": [
      "Enter a letter:  a\n"
     ]
    },
    {
     "name": "stdout",
     "output_type": "stream",
     "text": [
      "Good guess!\n",
      "\n",
      "Word: _ _ a _ _\n"
     ]
    },
    {
     "name": "stdin",
     "output_type": "stream",
     "text": [
      "Enter a letter:  s\n"
     ]
    },
    {
     "name": "stdout",
     "output_type": "stream",
     "text": [
      "Wrong guess. You have 4 attempts left.\n",
      "\n",
      "Word: _ _ a _ _\n"
     ]
    },
    {
     "name": "stdin",
     "output_type": "stream",
     "text": [
      "Enter a letter:  p\n"
     ]
    },
    {
     "name": "stdout",
     "output_type": "stream",
     "text": [
      "Wrong guess. You have 3 attempts left.\n",
      "\n",
      "Word: _ _ a _ _\n"
     ]
    },
    {
     "name": "stdin",
     "output_type": "stream",
     "text": [
      "Enter a letter:  v\n"
     ]
    },
    {
     "name": "stdout",
     "output_type": "stream",
     "text": [
      "Wrong guess. You have 2 attempts left.\n",
      "\n",
      "Word: _ _ a _ _\n"
     ]
    },
    {
     "name": "stdin",
     "output_type": "stream",
     "text": [
      "Enter a letter:  n\n"
     ]
    },
    {
     "name": "stdout",
     "output_type": "stream",
     "text": [
      "Wrong guess. You have 1 attempts left.\n",
      "\n",
      "Word: _ _ a _ _\n"
     ]
    },
    {
     "name": "stdin",
     "output_type": "stream",
     "text": [
      "Enter a letter:  h\n"
     ]
    },
    {
     "name": "stdout",
     "output_type": "stream",
     "text": [
      "Good guess!\n",
      "\n",
      "Word: _ h a _ _\n"
     ]
    },
    {
     "name": "stdin",
     "output_type": "stream",
     "text": [
      "Enter a letter:  c\n"
     ]
    },
    {
     "name": "stdout",
     "output_type": "stream",
     "text": [
      "Good guess!\n",
      "\n",
      "Word: c h a _ _\n"
     ]
    },
    {
     "name": "stdin",
     "output_type": "stream",
     "text": [
      "Enter a letter:  i\n"
     ]
    },
    {
     "name": "stdout",
     "output_type": "stream",
     "text": [
      "Good guess!\n",
      "\n",
      "Word: c h a i _\n"
     ]
    },
    {
     "name": "stdin",
     "output_type": "stream",
     "text": [
      "Enter a letter:  r\n"
     ]
    },
    {
     "name": "stdout",
     "output_type": "stream",
     "text": [
      "Good guess!\n",
      "\n",
      "Congratulations! You guessed the word: chair\n"
     ]
    }
   ],
   "source": [
    "import random\n",
    "word_list = ['apple', 'tiger', 'plane', 'chair', 'grape']\n",
    "chosen_word = random.choice(word_list)\n",
    "guessed_word = ['_'] * len(chosen_word)\n",
    "guessed_letters = []\n",
    "max_attempts = 6\n",
    "attempts = 0\n",
    "\n",
    "print(\"Welcome to Hangman!\")\n",
    "print(\"Guess the word, one letter at a time.\")\n",
    "print(\"You have 6 incorrect guesses.\\n\")\n",
    "\n",
    "while attempts < max_attempts and '_' in guessed_word:\n",
    "    print(\"Word:\", ' '.join(guessed_word))\n",
    "    guess = input(\"Enter a letter: \").lower()\n",
    "\n",
    "    if not guess.isalpha() or len(guess) != 1:\n",
    "        print(\"Please enter a single valid letter.\\n\")\n",
    "        continue\n",
    "\n",
    "    if guess in guessed_letters:\n",
    "        print(\"You already guessed that letter. Try again.\\n\")\n",
    "        continue\n",
    "\n",
    "    guessed_letters.append(guess)\n",
    "\n",
    "    if guess in chosen_word:\n",
    "        for idx, char in enumerate(chosen_word):\n",
    "            if char == guess:\n",
    "                guessed_word[idx] = guess\n",
    "        print(\"Good guess!\\n\")\n",
    "    else:\n",
    "        attempts += 1\n",
    "        print(f\"Wrong guess. You have {max_attempts - attempts} attempts left.\\n\")\n",
    "\n",
    "if '_' not in guessed_word:\n",
    "    print(\"Congratulations! You guessed the word:\", chosen_word)\n",
    "else:\n",
    "    print(\"Game Over! The word was:\", chosen_word)\n"
   ]
  },
  {
   "cell_type": "code",
   "execution_count": 3,
   "id": "26f9c1c6-b793-48a5-be2f-0ab836d94a25",
   "metadata": {},
   "outputs": [
    {
     "name": "stdout",
     "output_type": "stream",
     "text": [
      "📈 Welcome to the Stock Portfolio Tracker!\n",
      "\n"
     ]
    },
    {
     "name": "stdin",
     "output_type": "stream",
     "text": [
      "Enter stock symbol (or 'done' to finish):  @\n"
     ]
    },
    {
     "name": "stdout",
     "output_type": "stream",
     "text": [
      "❌ @ is not in the stock list. Available: ['AAPL', 'TSLA', 'GOOG', 'MSFT', 'AMZN']\n"
     ]
    },
    {
     "name": "stdin",
     "output_type": "stream",
     "text": [
      "Enter stock symbol (or 'done' to finish):  180\n"
     ]
    },
    {
     "name": "stdout",
     "output_type": "stream",
     "text": [
      "❌ 180 is not in the stock list. Available: ['AAPL', 'TSLA', 'GOOG', 'MSFT', 'AMZN']\n"
     ]
    },
    {
     "name": "stdin",
     "output_type": "stream",
     "text": [
      "Enter stock symbol (or 'done' to finish):  TSLA\n",
      "Enter quantity of TSLA:  243\n",
      "Enter stock symbol (or 'done' to finish):  DONE\n"
     ]
    },
    {
     "name": "stdout",
     "output_type": "stream",
     "text": [
      "\n",
      "📊 Your Investment Summary:\n",
      "TSLA: 243 shares × $250 = $60750\n",
      "\n",
      "💰 Total Investment Value: $60750\n"
     ]
    },
    {
     "name": "stdin",
     "output_type": "stream",
     "text": [
      "\n",
      "Do you want to save the result to a file? (yes/no):  YES\n",
      "Choose file format (.txt or .csv):  .CSV\n"
     ]
    },
    {
     "name": "stdout",
     "output_type": "stream",
     "text": [
      "✅ Data saved to portfolio.csv\n"
     ]
    },
    {
     "name": "stdin",
     "output_type": "stream",
     "text": [
      "\n",
      "Do you want to visualize your portfolio? (yes/no):  YES\n"
     ]
    },
    {
     "data": {
      "image/png": "[encoded data removed]",
      "text/plain": [
       "<Figure size 800x500 with 1 Axes>"
      ]
     },
     "metadata": {},
     "output_type": "display_data"
    }
   ],
   "source": [
    "import csv\n",
    "import os\n",
    "from colorama import Fore, Style, init\n",
    "import pandas as pd\n",
    "import matplotlib.pyplot as plt\n",
    "\n",
    "# Initialize colorama\n",
    "init(autoreset=True)\n",
    "\n",
    "# Hardcoded stock prices\n",
    "stock_prices = {\n",
    "    \"AAPL\": 180,\n",
    "    \"TSLA\": 250,\n",
    "    \"GOOG\": 140,\n",
    "    \"MSFT\": 320,\n",
    "    \"AMZN\": 125\n",
    "}\n",
    "\n",
    "portfolio = {}\n",
    "total_value = 0\n",
    "\n",
    "print(Fore.GREEN + \"📈 Welcome to the Stock Portfolio Tracker!\\n\")\n",
    "\n",
    "while True:\n",
    "    stock = input(\"Enter stock symbol (or 'done' to finish): \").upper()\n",
    "    if stock == \"DONE\":\n",
    "        break\n",
    "    if stock not in stock_prices:\n",
    "        print(Fore.RED + f\"❌ {stock} is not in the stock list. Available: {list(stock_prices.keys())}\")\n",
    "        continue\n",
    "    try:\n",
    "        quantity = int(input(f\"Enter quantity of {stock}: \"))\n",
    "    except ValueError:\n",
    "        print(Fore.RED + \"❌ Quantity must be a number.\")\n",
    "        continue\n",
    "    portfolio[stock] = portfolio.get(stock, 0) + quantity\n",
    "\n",
    "# Calculate total investment\n",
    "print(\"\\n\" + Fore.YELLOW + \"📊 Your Investment Summary:\")\n",
    "for stock, quantity in portfolio.items():\n",
    "    value = stock_prices[stock] * quantity\n",
    "    total_value += value\n",
    "    print(f\"{stock}: {quantity} shares × ${stock_prices[stock]} = ${value}\")\n",
    "\n",
    "print(Fore.CYAN + f\"\\n💰 Total Investment Value: ${total_value}\")\n",
    "\n",
    "# Save to file\n",
    "save = input(\"\\nDo you want to save the result to a file? (yes/no): \").lower()\n",
    "if save == 'yes':\n",
    "    file_type = input(\"Choose file format (.txt or .csv): \").lower()\n",
    "    if file_type == '.txt':\n",
    "        with open(\"portfolio.txt\", \"w\") as f:\n",
    "            for stock, quantity in portfolio.items():\n",
    "                f.write(f\"{stock}: {quantity} × ${stock_prices[stock]} = ${stock_prices[stock]*quantity}\\n\")\n",
    "            f.write(f\"\\nTotal Investment Value: ${total_value}\")\n",
    "        print(Fore.GREEN + \"✅ Data saved to portfolio.txt\")\n",
    "\n",
    "    elif file_type == '.csv':\n",
    "        df = pd.DataFrame([{\n",
    "            \"Stock\": stock,\n",
    "            \"Quantity\": quantity,\n",
    "            \"Price\": stock_prices[stock],\n",
    "            \"Total Value\": stock_prices[stock] * quantity\n",
    "        } for stock, quantity in portfolio.items()])\n",
    "        df.to_csv(\"portfolio.csv\", index=False)\n",
    "        print(Fore.GREEN + \"✅ Data saved to portfolio.csv\")\n",
    "\n",
    "# Optional: Data Visualization\n",
    "visualize = input(\"\\nDo you want to visualize your portfolio? (yes/no): \").lower()\n",
    "if visualize == 'yes':\n",
    "    stocks = list(portfolio.keys())\n",
    "    values = [stock_prices[stock] * quantity for stock, quantity in portfolio.items()]\n",
    "\n",
    "    plt.figure(figsize=(8, 5))\n",
    "    plt.bar(stocks, values, color='skyblue')\n",
    "    plt.title(\"Stock Portfolio Value\")\n",
    "    plt.xlabel(\"Stock\")\n",
    "    plt.ylabel(\"Total Value ($)\")\n",
    "    plt.grid(axis='y', linestyle='--', alpha=0.7)\n",
    "    plt.tight_layout()\n",
    "    plt.show()\n"
   ]
  },
  {
   "cell_type": "code",
   "execution_count": null,
   "id": "c52cdb12-18f6-4f54-a035-c6790d66875c",
   "metadata": {},
   "outputs": [
    {
     "name": "stdout",
     "output_type": "stream",
     "text": [
      "\n",
      "🛠️ PYTHON TASK AUTOMATION TOOL\n",
      "1. Move all .jpg files from one folder to another\n",
      "2. Extract emails from a .txt file\n",
      "3. Scrape title of a webpage\n",
      "4. Exit\n"
     ]
    },
    {
     "name": "stdin",
     "output_type": "stream",
     "text": [
      "\n",
      "Enter your choice (1-4):  3\n",
      "Enter webpage URL:  www.deepthi.com\n",
      "Enter output file name to save title:  deepthi04\n"
     ]
    },
    {
     "name": "stdout",
     "output_type": "stream",
     "text": [
      "❌ Request error: Invalid URL 'www.deepthi.com': No scheme supplied. Perhaps you meant https://www.deepthi.com?\n"
     ]
    },
    {
     "name": "stdin",
     "output_type": "stream",
     "text": [
      "\n",
      "🔁 Press Enter to return to main menu... return\n"
     ]
    },
    {
     "name": "stdout",
     "output_type": "stream",
     "text": [
      "\n",
      "🛠️ PYTHON TASK AUTOMATION TOOL\n",
      "1. Move all .jpg files from one folder to another\n",
      "2. Extract emails from a .txt file\n",
      "3. Scrape title of a webpage\n",
      "4. Exit\n"
     ]
    },
    {
     "name": "stdin",
     "output_type": "stream",
     "text": [
      "\n",
      "Enter your choice (1-4):  3\n",
      "Enter webpage URL:  https://www.deepthi.com\n",
      "Enter output file name to save title:  deepthi04\n"
     ]
    },
    {
     "name": "stdout",
     "output_type": "stream",
     "text": [
      "❌ Request error: HTTPSConnectionPool(host='www.deepthi.com', port=443): Max retries exceeded with url: / (Caused by SSLError(SSLError(1, '[SSL: TLSV1_ALERT_INTERNAL_ERROR] tlsv1 alert internal error (_ssl.c:1000)')))\n"
     ]
    },
    {
     "name": "stdin",
     "output_type": "stream",
     "text": [
      "\n",
      "🔁 Press Enter to return to main menu... return\n"
     ]
    },
    {
     "name": "stdout",
     "output_type": "stream",
     "text": [
      "\n",
      "🛠️ PYTHON TASK AUTOMATION TOOL\n",
      "1. Move all .jpg files from one folder to another\n",
      "2. Extract emails from a .txt file\n",
      "3. Scrape title of a webpage\n",
      "4. Exit\n"
     ]
    },
    {
     "name": "stdin",
     "output_type": "stream",
     "text": [
      "\n",
      "Enter your choice (1-4):  3\n"
     ]
    }
   ],
   "source": [
    "import os\n",
    "import shutil\n",
    "import re\n",
    "import requests\n",
    "from tqdm import tqdm\n",
    "from bs4 import BeautifulSoup\n",
    "\n",
    "def move_jpg_files(source_dir, target_dir):\n",
    "    try:\n",
    "        os.makedirs(target_dir, exist_ok=True)\n",
    "        jpg_files = [f for f in os.listdir(source_dir) if f.lower().endswith('.jpg')]\n",
    "\n",
    "        for file in tqdm(jpg_files, desc=\"📂 Moving .jpg files\"):\n",
    "            shutil.move(os.path.join(source_dir, file), os.path.join(target_dir, file))\n",
    "\n",
    "        print(f\"\\n✅ Moved {len(jpg_files)} .jpg files from '{source_dir}' to '{target_dir}'.\")\n",
    "\n",
    "    except Exception as e:\n",
    "        print(f\"❌ Error: {e}\")\n",
    "\n",
    "def extract_emails(input_file, output_file):\n",
    "    try:\n",
    "        with open(input_file, 'r') as f:\n",
    "            content = f.read()\n",
    "\n",
    "        emails = re.findall(r\"[a-zA-Z0-9_.+-]+@[a-zA-Z0-9-]+\\.[a-zA-Z0-9-.]+\", content)\n",
    "        emails = sorted(set(emails))\n",
    "\n",
    "        with open(output_file, 'w') as f:\n",
    "            for email in emails:\n",
    "                f.write(email + '\\n')\n",
    "\n",
    "        print(f\"✅ {len(emails)} unique emails saved to '{output_file}'.\")\n",
    "\n",
    "    except FileNotFoundError:\n",
    "        print(f\"❌ File '{input_file}' not found.\")\n",
    "    except Exception as e:\n",
    "        print(f\"❌ Error: {e}\")\n",
    "\n",
    "def scrape_webpage_title(url, output_file):\n",
    "    try:\n",
    "        response = requests.get(url)\n",
    "        response.raise_for_status()\n",
    "\n",
    "        soup = BeautifulSoup(response.text, 'html.parser')\n",
    "        title = soup.title.string.strip() if soup.title else 'No title found'\n",
    "\n",
    "        with open(output_file, 'w') as f:\n",
    "            f.write(f\"URL: {url}\\nTitle: {title}\\n\")\n",
    "\n",
    "        print(f\"✅ Title saved to '{output_file}': {title}\")\n",
    "\n",
    "    except requests.exceptions.RequestException as e:\n",
    "        print(f\"❌ Request error: {e}\")\n",
    "    except Exception as e:\n",
    "        print(f\"❌ Error: {e}\")\n",
    "\n",
    "def main_menu():\n",
    "    print(\"\\n🛠️ PYTHON TASK AUTOMATION TOOL\")\n",
    "    print(\"1. Move all .jpg files from one folder to another\")\n",
    "    print(\"2. Extract emails from a .txt file\")\n",
    "    print(\"3. Scrape title of a webpage\")\n",
    "    print(\"4. Exit\")\n",
    "\n",
    "    choice = input(\"\\nEnter your choice (1-4): \")\n",
    "\n",
    "    if choice == '1':\n",
    "        src = input(\"Enter source folder path: \")\n",
    "        tgt = input(\"Enter target folder path: \")\n",
    "        move_jpg_files(src, tgt)\n",
    "\n",
    "    elif choice == '2':\n",
    "        inp = input(\"Enter input .txt file path: \")\n",
    "        out = input(\"Enter output .txt file path to save emails: \")\n",
    "        extract_emails(inp, out)\n",
    "\n",
    "    elif choice == '3':\n",
    "        url = input(\"Enter webpage URL: \")\n",
    "        out = input(\"Enter output file name to save title: \")\n",
    "        scrape_webpage_title(url, out)\n",
    "\n",
    "    elif choice == '4':\n",
    "        print(\"👋 Exiting... Thank you!\")\n",
    "        exit()\n",
    "\n",
    "    else:\n",
    "        print(\"❌ Invalid choice. Please enter 1 to 4.\")\n",
    "\n",
    "if __name__ == \"__main__\":\n",
    "    while True:\n",
    "        main_menu()\n",
    "        input(\"\\n🔁 Press Enter to return to main menu...\")\n"
   ]
  },
  {
   "cell_type": "code",
   "execution_count": null,
   "id": "568b13d5-1551-4e89-aea8-425e7edf87bb",
   "metadata": {},
   "outputs": [
    {
     "name": "stdout",
     "output_type": "stream",
     "text": [
      "\n",
      "🛠️ PYTHON TASK AUTOMATION TOOL\n",
      "1. Move all .jpg files from one folder to another\n",
      "2. Extract emails from a .txt file\n",
      "3. Scrape title of a webpage\n",
      "4. Exit\n"
     ]
    },
    {
     "name": "stdin",
     "output_type": "stream",
     "text": [
      "\n",
      "Enter your choice (1-4):  1\n",
      "Enter source folder path:  doc.jpg\n",
      "Enter target folder path:  doc.pdf\n"
     ]
    },
    {
     "name": "stdout",
     "output_type": "stream",
     "text": [
      "❌ Error: [WinError 3] The system cannot find the path specified: 'doc.jpg'\n"
     ]
    },
    {
     "name": "stdin",
     "output_type": "stream",
     "text": [
      "\n",
      "🔁 Press Enter to return to main menu... \n"
     ]
    },
    {
     "name": "stdout",
     "output_type": "stream",
     "text": [
      "\n",
      "🛠️ PYTHON TASK AUTOMATION TOOL\n",
      "1. Move all .jpg files from one folder to another\n",
      "2. Extract emails from a .txt file\n",
      "3. Scrape title of a webpage\n",
      "4. Exit\n"
     ]
    }
   ],
   "source": [
    "import os\n",
    "import shutil\n",
    "import re\n",
    "import requests\n",
    "from tqdm import tqdm\n",
    "from bs4 import BeautifulSoup\n",
    "\n",
    "def move_jpg_files(source_dir, target_dir):\n",
    "    try:\n",
    "        os.makedirs(target_dir, exist_ok=True)\n",
    "        jpg_files = [f for f in os.listdir(source_dir) if f.lower().endswith('.jpg')]\n",
    "\n",
    "        for file in tqdm(jpg_files, desc=\"📂 Moving .jpg files\"):\n",
    "            shutil.move(os.path.join(source_dir, file), os.path.join(target_dir, file))\n",
    "\n",
    "        print(f\"\\n✅ Moved {len(jpg_files)} .jpg files from '{source_dir}' to '{target_dir}'.\")\n",
    "\n",
    "    except Exception as e:\n",
    "        print(f\"❌ Error: {e}\")\n",
    "\n",
    "def extract_emails(input_file, output_file):\n",
    "    try:\n",
    "        with open(input_file, 'r') as f:\n",
    "            content = f.read()\n",
    "\n",
    "        emails = re.findall(r\"[a-zA-Z0-9_.+-]+@[a-zA-Z0-9-]+\\.[a-zA-Z0-9-.]+\", content)\n",
    "        emails = sorted(set(emails))\n",
    "\n",
    "        with open(output_file, 'w') as f:\n",
    "            for email in emails:\n",
    "                f.write(email + '\\n')\n",
    "\n",
    "        print(f\"✅ {len(emails)} unique emails saved to '{output_file}'.\")\n",
    "\n",
    "    except FileNotFoundError:\n",
    "        print(f\"❌ File '{input_file}' not found.\")\n",
    "    except Exception as e:\n",
    "        print(f\"❌ Error: {e}\")\n",
    "\n",
    "def scrape_webpage_title(url, output_file):\n",
    "    try:\n",
    "        response = requests.get(url)\n",
    "        response.raise_for_status()\n",
    "\n",
    "        soup = BeautifulSoup(response.text, 'html.parser')\n",
    "        title = soup.title.string.strip() if soup.title else 'No title found'\n",
    "\n",
    "        with open(output_file, 'w') as f:\n",
    "            f.write(f\"URL: {url}\\nTitle: {title}\\n\")\n",
    "\n",
    "        print(f\"✅ Title saved to '{output_file}': {title}\")\n",
    "\n",
    "    except requests.exceptions.RequestException as e:\n",
    "        print(f\"❌ Request error: {e}\")\n",
    "    except Exception as e:\n",
    "        print(f\"❌ Error: {e}\")\n",
    "\n",
    "def main_menu():\n",
    "    print(\"\\n🛠️ PYTHON TASK AUTOMATION TOOL\")\n",
    "    print(\"1. Move all .jpg files from one folder to another\")\n",
    "    print(\"2. Extract emails from a .txt file\")\n",
    "    print(\"3. Scrape title of a webpage\")\n",
    "    print(\"4. Exit\")\n",
    "\n",
    "    choice = input(\"\\nEnter your choice (1-4): \")\n",
    "\n",
    "    if choice == '1':\n",
    "        src = input(\"Enter source folder path: \")\n",
    "        tgt = input(\"Enter target folder path: \")\n",
    "        move_jpg_files(src, tgt)\n",
    "\n",
    "    elif choice == '2':\n",
    "        inp = input(\"Enter input .txt file path: \")\n",
    "        out = input(\"Enter output .txt file path to save emails: \")\n",
    "        extract_emails(inp, out)\n",
    "\n",
    "    elif choice == '3':\n",
    "        url = input(\"Enter webpage URL: \")\n",
    "        out = input(\"Enter output file name to save title: \")\n",
    "        scrape_webpage_title(url, out)\n",
    "\n",
    "    elif choice == '4':\n",
    "        print(\"👋 Exiting... Thank you!\")\n",
    "        exit()\n",
    "\n",
    "    else:\n",
    "        print(\"❌ Invalid choice. Please enter 1 to 4.\")\n",
    "\n",
    "if __name__ == \"__main__\":\n",
    "    while True:\n",
    "        main_menu()\n",
    "        input(\"\\n🔁 Press Enter to return to main menu...\")\n"
   ]
  },
  {
   "cell_type": "code",
   "execution_count": null,
   "id": "5be143bf-c815-4d01-af77-0a273b5cfa92",
   "metadata": {},
   "outputs": [],
   "source": [
    "import json\n",
    "import os\n",
    "\n",
    "MEMORY_FILE = \"chat_memory.json\"\n",
    "\n",
    "# Load previous memory or initialize\n",
    "def load_memory():\n",
    "    if os.path.exists(MEMORY_FILE):\n",
    "        with open(MEMORY_FILE, 'r') as f:\n",
    "            return json.load(f)\n",
    "    return {}\n",
    "\n",
    "# Save memory to file\n",
    "def save_memory(memory):\n",
    "    with open(MEMORY_FILE, 'w') as f:\n",
    "        json.dump(memory, f)\n",
    "\n",
    "# Update memory when user says something like \"my name is John\"\n",
    "def update_memory(user_input, memory):\n",
    "    user_input = user_input.lower()\n",
    "    if \"my name is\" in user_input:\n",
    "        name = user_input.split(\"my name is\")[-1].strip().capitalize()\n",
    "        memory[\"name\"] = name\n",
    "        return f\"Nice to meet you, {name}!\"\n",
    "    elif \"i live in\" in user_input:\n",
    "        location = user_input.split(\"i live in\")[-1].strip().capitalize()\n",
    "        memory[\"location\"] = location\n",
    "        return f\"Got it. You live in {location}.\"\n",
    "    return None\n",
    "\n",
    "# Generate response based on memory and user input\n",
    "def generate_response(user_input, memory):\n",
    "    response = update_memory(user_input, memory)\n",
    "    if response:\n",
    "        return response\n",
    "\n",
    "    if \"name\" in user_input:\n",
    "        return f\"Your name is {memory.get('name', 'not known to me yet')}.\"\n",
    "    elif \"where do i live\" in user_input:\n",
    "        return f\"You live in {memory.get('location', 'an unknown place')}.\"\n",
    "    elif \"how are you\" in user_input:\n",
    "        return \"I'm just a bunch of Python code, but I'm doing great!\"\n",
    "    elif \"bye\" in user_input:\n",
    "        return \"Goodbye! I'll remember our chat. 👋\"\n",
    "    elif \"clear memory\" in user_input:\n",
    "        memory.clear()\n",
    "        save_memory(memory)\n",
    "        return \"Memory cleared.\"\n",
    "    else:\n",
    "        return \"I'm still learning. Could you rephrase or teach me something new?\"\n",
    "\n",
    "# Main chatbot loop\n",
    "def chatbot():\n",
    "    print(\"🤖 Hello! I'm your AI friend. Tell me anything, and I'll remember it.\\n(Type 'bye' to exit)\\n\")\n",
    "    memory = load_memory()\n",
    "\n",
    "    while True:\n",
    "        user_input = input(\"You: \").strip().lower()\n",
    "        if not user_input:\n",
    "            continue\n",
    "\n",
    "        response = generate_response(user_input, memory)\n",
    "        print(\"Bot:\", response)\n",
    "        save_memory(memory)\n",
    "\n",
    "        if \"bye\" in user_input:\n",
    "            break\n",
    "\n",
    "if __name__ == \"__main__\":\n",
    "    chatbot()\n"
   ]
  },
  {
   "cell_type": "code",
   "execution_count": null,
   "id": "a247445c-ec93-4fbc-9f4d-9a7291315511",
   "metadata": {},
   "outputs": [],
   "source": []
  }
 ],
 "metadata": {
  "kernelspec": {
   "display_name": "Python [conda env:base] *",
   "language": "python",
   "name": "conda-base-py"
  },
  "language_info": {
   "codemirror_mode": {
    "name": "ipython",
    "version": 3
   },
   "file_extension": ".py",
   "mimetype": "text/x-python",
   "name": "python",
   "nbconvert_exporter": "python",
   "pygments_lexer": "ipython3",
   "version": "3.12.7"
  }
 },
 "nbformat": 4,
 "nbformat_minor": 5
}
